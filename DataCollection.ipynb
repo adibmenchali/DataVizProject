{
 "cells": [
  {
   "cell_type": "code",
   "execution_count": 10,
   "id": "5e53ae93",
   "metadata": {},
   "outputs": [],
   "source": [
    "import csv\n",
    "import requests\n",
    "\n",
    "with open(\"movies.csv\", mode=\"w\", newline=\"\", encoding=\"utf-8\") as file:\n",
    "    writer = csv.writer(file)\n",
    "    writer.writerow([\"Title\", \"Genre\", \"Year\", \"Rating\", \"Director\", \"Cast\", \"Duration\", \"Language\", \"Country of Origin\", \"Revenue\", \"Budget\"])\n",
    "    for page in range(1, 51):\n",
    "        url = f\"https://api.themoviedb.org/3/discover/movie?api_key=7faf3867c21ee3766145730b795d781d&page={page}\"\n",
    "        response = requests.get(url)\n",
    "        data = response.json()\n",
    "        for movie in data[\"results\"]:\n",
    "            url = f\"https://api.themoviedb.org/3/movie/{movie['id']}?api_key=7faf3867c21ee3766145730b795d781d\"\n",
    "            credits_url = f\"https://api.themoviedb.org/3/movie/{movie['id']}/credits?api_key=7faf3867c21ee3766145730b795d781d\"\n",
    "            response = requests.get(url)\n",
    "            credits_response = requests.get(credits_url)\n",
    "            data = response.json()\n",
    "            credits_data = credits_response.json()\n",
    "            writer.writerow([data.get(\"title\", \"N/A\"), data[\"genres\"][0][\"name\"] if data.get(\"genres\") else \"N/A\",\n",
    "                             data[\"release_date\"][:4] if data.get(\"release_date\") else \"N/A\",\n",
    "                             data[\"vote_average\"] if data.get(\"vote_average\") else \"N/A\",\n",
    "                             credits_data[\"crew\"][0][\"name\"] if credits_data.get(\"crew\") else \"N/A\",\n",
    "                             \", \".join([cast[\"name\"] for cast in credits_data[\"cast\"]]) if credits_data.get(\"cast\") else \"N/A\",\n",
    "                             data[\"runtime\"] if data.get(\"runtime\") else \"N/A\",\n",
    "                             data[\"original_language\"] if data.get(\"original_language\") else \"N/A\",\n",
    "                             data[\"production_countries\"][0][\"name\"] if data.get(\"production_countries\") else \"N/A\",\n",
    "                             data[\"revenue\"] if data.get(\"revenue\") else \"N/A\",\n",
    "                             data[\"budget\"] if data.get(\"budget\") else \"N/A\"])\n"
   ]
  },
  {
   "cell_type": "code",
   "execution_count": 1,
   "id": "edc2c396",
   "metadata": {},
   "outputs": [],
   "source": [
    "import csv\n",
    "import requests\n",
    "\n",
    "with open(\"moviesdataset.csv\", mode=\"w\", newline=\"\", encoding=\"utf-8\") as file:\n",
    "    writer = csv.writer(file)\n",
    "    writer.writerow([\"Title\", \"Genre\", \"Year\", \"Rating\", \"Director\", \"Cast\", \"Duration\", \"Language\", \"Country of Origin\", \"Revenue\", \"Budget\"])\n",
    "    for page in range(1, 51):\n",
    "        url = f\"https://api.themoviedb.org/3/discover/movie?api_key=7faf3867c21ee3766145730b795d781d&page={page}\"\n",
    "        response = requests.get(url)\n",
    "        data = response.json()\n",
    "        for movie in data[\"results\"]:\n",
    "            url = f\"https://api.themoviedb.org/3/movie/{movie['id']}?api_key=7faf3867c21ee3766145730b795d781d\"\n",
    "            credits_url = f\"https://api.themoviedb.org/3/movie/{movie['id']}/credits?api_key=7faf3867c21ee3766145730b795d781d\"\n",
    "            response = requests.get(url)\n",
    "            credits_response = requests.get(credits_url)\n",
    "            data = response.json()\n",
    "            credits_data = credits_response.json()\n",
    "            director_name = \"\"\n",
    "            for crew in credits_data[\"crew\"]:\n",
    "                if crew[\"job\"] == \"Director\":\n",
    "                    director_name = crew[\"name\"]\n",
    "                    break\n",
    "            writer.writerow([data.get(\"title\", \"N/A\"), data[\"genres\"][0][\"name\"] if data.get(\"genres\") else \"N/A\",\n",
    "                             data[\"release_date\"][:4] if data.get(\"release_date\") else \"N/A\",\n",
    "                             data[\"vote_average\"] if data.get(\"vote_average\") else \"N/A\",\n",
    "                             director_name if director_name else \"N/A\",\n",
    "                             \", \".join([cast[\"name\"] for cast in credits_data[\"cast\"]]) if credits_data.get(\"cast\") else \"N/A\",\n",
    "                             data[\"runtime\"] if data.get(\"runtime\") else \"N/A\",\n",
    "                             data[\"original_language\"] if data.get(\"original_language\") else \"N/A\",\n",
    "                             data[\"production_countries\"][0][\"name\"] if data.get(\"production_countries\") else \"N/A\",\n",
    "                             data[\"revenue\"] if data.get(\"revenue\") else \"N/A\",\n",
    "                             data[\"budget\"] if data.get(\"budget\") else \"N/A\"])"
   ]
  }
 ],
 "metadata": {
  "kernelspec": {
   "display_name": "datavis",
   "language": "python",
   "name": "datavis"
  },
  "language_info": {
   "codemirror_mode": {
    "name": "ipython",
    "version": 3
   },
   "file_extension": ".py",
   "mimetype": "text/x-python",
   "name": "python",
   "nbconvert_exporter": "python",
   "pygments_lexer": "ipython3",
   "version": "3.8.16"
  }
 },
 "nbformat": 4,
 "nbformat_minor": 5
}
